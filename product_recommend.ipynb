{
  "nbformat": 4,
  "nbformat_minor": 0,
  "metadata": {
    "colab": {
      "name": "product-recommend.ipynb",
      "provenance": []
    },
    "kernelspec": {
      "name": "python3",
      "display_name": "Python 3"
    },
    "language_info": {
      "name": "python"
    }
  },
  "cells": [
    {
      "cell_type": "code",
      "metadata": {
        "id": "laEpq1E814NC"
      },
      "source": [
        "#importing libraries\n",
        "import pandas as pd\n",
        "import numpy as np\n",
        "from sklearn.feature_extraction.text import TfidfVectorizer\n",
        "from sklearn.metrics.pairwise import cosine_similarity"
      ],
      "execution_count": 44,
      "outputs": []
    },
    {
      "cell_type": "code",
      "metadata": {
        "colab": {
          "base_uri": "https://localhost:8080/",
          "height": 204
        },
        "id": "mXnEwT-314Ae",
        "outputId": "344bce51-fe2c-4a2c-93f9-dcdcbbb8f8d3"
      },
      "source": [
        "#importing dataset\n",
        "df = pd.read_csv('products_data.csv')\n",
        "\n",
        "#display head i.e first five entries\n",
        "df.head()"
      ],
      "execution_count": 59,
      "outputs": [
        {
          "output_type": "execute_result",
          "data": {
            "text/html": [
              "<div>\n",
              "<style scoped>\n",
              "    .dataframe tbody tr th:only-of-type {\n",
              "        vertical-align: middle;\n",
              "    }\n",
              "\n",
              "    .dataframe tbody tr th {\n",
              "        vertical-align: top;\n",
              "    }\n",
              "\n",
              "    .dataframe thead th {\n",
              "        text-align: right;\n",
              "    }\n",
              "</style>\n",
              "<table border=\"1\" class=\"dataframe\">\n",
              "  <thead>\n",
              "    <tr style=\"text-align: right;\">\n",
              "      <th></th>\n",
              "      <th>id</th>\n",
              "      <th>description</th>\n",
              "    </tr>\n",
              "  </thead>\n",
              "  <tbody>\n",
              "    <tr>\n",
              "      <th>0</th>\n",
              "      <td>1</td>\n",
              "      <td>Active classic boxers - There's a reason why o...</td>\n",
              "    </tr>\n",
              "    <tr>\n",
              "      <th>1</th>\n",
              "      <td>2</td>\n",
              "      <td>Active sport boxer briefs - Skinning up Glory ...</td>\n",
              "    </tr>\n",
              "    <tr>\n",
              "      <th>2</th>\n",
              "      <td>3</td>\n",
              "      <td>Active sport briefs - These superbreathable no...</td>\n",
              "    </tr>\n",
              "    <tr>\n",
              "      <th>3</th>\n",
              "      <td>4</td>\n",
              "      <td>Alpine guide pants - Skin in, climb ice, switc...</td>\n",
              "    </tr>\n",
              "    <tr>\n",
              "      <th>4</th>\n",
              "      <td>5</td>\n",
              "      <td>Alpine wind jkt - On high ridges, steep ice an...</td>\n",
              "    </tr>\n",
              "  </tbody>\n",
              "</table>\n",
              "</div>"
            ],
            "text/plain": [
              "   id                                        description\n",
              "0   1  Active classic boxers - There's a reason why o...\n",
              "1   2  Active sport boxer briefs - Skinning up Glory ...\n",
              "2   3  Active sport briefs - These superbreathable no...\n",
              "3   4  Alpine guide pants - Skin in, climb ice, switc...\n",
              "4   5  Alpine wind jkt - On high ridges, steep ice an..."
            ]
          },
          "metadata": {
            "tags": []
          },
          "execution_count": 59
        }
      ]
    },
    {
      "cell_type": "code",
      "metadata": {
        "colab": {
          "base_uri": "https://localhost:8080/",
          "height": 171
        },
        "id": "IdznE7gQG0kr",
        "outputId": "be3f6f2b-c69f-4715-dbc9-864513477470"
      },
      "source": [
        "df['description'][1]"
      ],
      "execution_count": 57,
      "outputs": [
        {
          "output_type": "execute_result",
          "data": {
            "application/vnd.google.colaboratory.intrinsic+json": {
              "type": "string"
            },
            "text/plain": [
              "'Active sport boxer briefs - Skinning up Glory requires enough movement without your boxers deciding to poach their own route. The form-fitting Active Sport Boxer Briefs are made from breathable 93% polyester (71% recycled) fabric that\\'s fast-wicking, dries quickly and has 7% spandex for stretch; the seamless waistband and soft leg edges won\\'t roll or bind. The gusseted, flat-sewn 6\" inseam (size M) is offset to prevent inner-thigh chafe. Fly-free with a smooth front panel. Recyclable through the Common Threads Recycling Program.<br><br><b>Details:</b><ul> <li>\"Stretch mesh provides support, open-weave mesh for airflow, wicks efficiently, dries fast\"</li> <li>Seamless construction</li> <li>\"Flat-sewn, gusseted inseam is set forward to prevent inner-thigh chafe\"</li> <li>Fly-free support</li> <li>\"Inseam (size M) is 6\"\"\"</li></ul><br><br><b>Fabric: </b>\"4.6-oz 93% polyester (71% recycled)/7% spandex, with moisture-wicking performance. Recyclable through the Common Threads Recycling Program\"<br><br><b>Weight: </b>(60 g 2.1 oz)<br><br>Made in Israel.'"
            ]
          },
          "metadata": {
            "tags": []
          },
          "execution_count": 57
        }
      ]
    },
    {
      "cell_type": "code",
      "metadata": {
        "colab": {
          "base_uri": "https://localhost:8080/"
        },
        "id": "BKgzQQ1OmbbL",
        "outputId": "088121c9-e52d-41a7-9ce1-220a729fd010"
      },
      "source": [
        "df.shape"
      ],
      "execution_count": 48,
      "outputs": [
        {
          "output_type": "execute_result",
          "data": {
            "text/plain": [
              "(500, 2)"
            ]
          },
          "metadata": {
            "tags": []
          },
          "execution_count": 48
        }
      ]
    },
    {
      "cell_type": "code",
      "metadata": {
        "colab": {
          "base_uri": "https://localhost:8080/"
        },
        "id": "GZHjBvIG2he9",
        "outputId": "86197388-7f6a-41f7-fb70-7a00dc2fb3d4"
      },
      "source": [
        "#setting tfidf vectorizer\n",
        "tf = TfidfVectorizer(ngram_range =(1,3), min_df=3, stop_words = 'english',analyzer='word')\n",
        "tf"
      ],
      "execution_count": 49,
      "outputs": [
        {
          "output_type": "execute_result",
          "data": {
            "text/plain": [
              "TfidfVectorizer(analyzer='word', binary=False, decode_error='strict',\n",
              "                dtype=<class 'numpy.float64'>, encoding='utf-8',\n",
              "                input='content', lowercase=True, max_df=1.0, max_features=None,\n",
              "                min_df=3, ngram_range=(1, 3), norm='l2', preprocessor=None,\n",
              "                smooth_idf=True, stop_words='english', strip_accents=None,\n",
              "                sublinear_tf=False, token_pattern='(?u)\\\\b\\\\w\\\\w+\\\\b',\n",
              "                tokenizer=None, use_idf=True, vocabulary=None)"
            ]
          },
          "metadata": {
            "tags": []
          },
          "execution_count": 49
        }
      ]
    },
    {
      "cell_type": "code",
      "metadata": {
        "colab": {
          "base_uri": "https://localhost:8080/"
        },
        "id": "hfb7Z-3V7vO_",
        "outputId": "9bab567c-98ac-4b73-ce6e-2145afd2d889"
      },
      "source": [
        "#tfidf matrix\n",
        "tf_matrix = tf.fit_transform(df['description'])\n",
        "tf_matrix.shape"
      ],
      "execution_count": 50,
      "outputs": [
        {
          "output_type": "execute_result",
          "data": {
            "text/plain": [
              "(500, 8988)"
            ]
          },
          "metadata": {
            "tags": []
          },
          "execution_count": 50
        }
      ]
    },
    {
      "cell_type": "code",
      "metadata": {
        "id": "jP5yfS2u8DYv"
      },
      "source": [
        "#Calculating similarity\n",
        "similarity = cosine_similarity(tf_matrix, tf_matrix)\n",
        "\n",
        "res = {}\n",
        "\n",
        "for a,b in df.iterrows():\n",
        "  similar_index = similarity[a].argsort()[:-100:-1]\n",
        "  similar_item = [(similarity[a][i],df['id'][i]) for i in similar_index]\n",
        "  res[b['id']] = similar_item[1:]\n",
        "\n",
        "def items(idd):\n",
        "  return df.loc[df['id']==idd]['description'].tolist()[0].split('-')[0]\n",
        "\n",
        "#Recommending based on top 10 maching values\n",
        "def recommend(idd):\n",
        "  ress = res[idd][:10]\n",
        "  for i in ress:\n",
        "    print(items(i[1]),str(i[0]))"
      ],
      "execution_count": 51,
      "outputs": []
    },
    {
      "cell_type": "code",
      "metadata": {
        "colab": {
          "base_uri": "https://localhost:8080/"
        },
        "id": "Dyk2rINAW8oL",
        "outputId": "7858bf1a-a34e-414a-a765-23c762c33378"
      },
      "source": [
        "#recommend 10 products similar to 2nd product in dataset\n",
        "recommend(2)"
      ],
      "execution_count": 52,
      "outputs": [
        {
          "output_type": "stream",
          "text": [
            "Active sport briefs  0.6120022310405986\n",
            "Active boy shorts  0.29189608030250996\n",
            "Active briefs  0.28942069773134543\n",
            "Active classic boxers  0.27250696993715584\n",
            "Active boxer briefs  0.2670086451520405\n",
            "Cap 1 boxer briefs  0.26485893387101345\n",
            "Active mesh bra  0.2612041989469141\n",
            "Active hipster  0.23937669115998325\n",
            "Sport top  0.22838842119619554\n",
            "Active classic cami  0.2113927497375257\n"
          ],
          "name": "stdout"
        }
      ]
    },
    {
      "cell_type": "code",
      "metadata": {
        "colab": {
          "base_uri": "https://localhost:8080/"
        },
        "id": "MgLzmFWkXqFU",
        "outputId": "34749046-80bf-443e-fb23-c626647bd8bd"
      },
      "source": [
        "#recommend 10 products similar to 4th product in dataset\n",
        "recommend(4)"
      ],
      "execution_count": 53,
      "outputs": [
        {
          "output_type": "stream",
          "text": [
            "Alpine guide pants  0.9390192220204762\n",
            "Guide jkt  0.38262757228240735\n",
            "Lw guide pants  0.3507895660901603\n",
            "Guide jkt  0.3430757004046138\n",
            "Lw guide pants  0.34292637644401996\n",
            "Rock guide pants  0.3289951767544827\n",
            "Simple guide pants  0.2931905740140394\n",
            "Traverse pants  0.2738848251230949\n",
            "Shelled insulator pants  0.2572640836516458\n",
            "Rock guide pants  0.2550330205541813\n"
          ],
          "name": "stdout"
        }
      ]
    },
    {
      "cell_type": "code",
      "metadata": {
        "colab": {
          "base_uri": "https://localhost:8080/"
        },
        "id": "Jn1IhAEvc6dr",
        "outputId": "4284e07e-a1ee-4039-e7ae-adbe48880b68"
      },
      "source": [
        "#recommend 10 products similar to 7th product in dataset\n",
        "recommend(7)"
      ],
      "execution_count": 54,
      "outputs": [
        {
          "output_type": "stream",
          "text": [
            "Single shot  0.5264181253858998\n",
            "Pocket pack  0.5170400389188204\n",
            "Hip pack  0.5161434369024325\n",
            "Lightwire brief  0.5006493882742352\n",
            "Daily grind  0.48650829027589104\n",
            "Lightwire  0.46258541688828064\n",
            "Crosstown  0.43247122085939704\n",
            "Lw travel sling  0.4264601764304888\n",
            "Mlc burrito  0.3515556349907382\n",
            "Minimass  0.3362576934315898\n"
          ],
          "name": "stdout"
        }
      ]
    }
  ]
}