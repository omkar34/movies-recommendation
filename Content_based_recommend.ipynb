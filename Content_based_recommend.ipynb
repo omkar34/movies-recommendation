{
  "nbformat": 4,
  "nbformat_minor": 0,
  "metadata": {
    "colab": {
      "name": "Content_based_recommed.ipynb",
      "provenance": []
    },
    "kernelspec": {
      "name": "python3",
      "display_name": "Python 3"
    },
    "language_info": {
      "name": "python"
    }
  },
  "cells": [
    {
      "cell_type": "code",
      "metadata": {
        "id": "laEpq1E814NC"
      },
      "source": [
        "#importing libraries\n",
        "import pandas as pd\n",
        "import numpy as np\n",
        "from sklearn.feature_extraction.text import TfidfVectorizer\n",
        "from sklearn.metrics.pairwise import linear_kernel"
      ],
      "execution_count": 1,
      "outputs": []
    },
    {
      "cell_type": "code",
      "metadata": {
        "colab": {
          "base_uri": "https://localhost:8080/",
          "height": 204
        },
        "id": "mXnEwT-314Ae",
        "outputId": "90c4f490-7b89-4658-b300-0d858b36c03a"
      },
      "source": [
        "#importing dataset\n",
        "df = pd.read_csv('movies_data.csv')\n",
        "\n",
        "#display head i.e first five entries\n",
        "df.head()"
      ],
      "execution_count": 3,
      "outputs": [
        {
          "output_type": "execute_result",
          "data": {
            "text/html": [
              "<div>\n",
              "<style scoped>\n",
              "    .dataframe tbody tr th:only-of-type {\n",
              "        vertical-align: middle;\n",
              "    }\n",
              "\n",
              "    .dataframe tbody tr th {\n",
              "        vertical-align: top;\n",
              "    }\n",
              "\n",
              "    .dataframe thead th {\n",
              "        text-align: right;\n",
              "    }\n",
              "</style>\n",
              "<table border=\"1\" class=\"dataframe\">\n",
              "  <thead>\n",
              "    <tr style=\"text-align: right;\">\n",
              "      <th></th>\n",
              "      <th>id</th>\n",
              "      <th>description</th>\n",
              "    </tr>\n",
              "  </thead>\n",
              "  <tbody>\n",
              "    <tr>\n",
              "      <th>0</th>\n",
              "      <td>1</td>\n",
              "      <td>Active classic boxers - There's a reason why o...</td>\n",
              "    </tr>\n",
              "    <tr>\n",
              "      <th>1</th>\n",
              "      <td>2</td>\n",
              "      <td>Active sport boxer briefs - Skinning up Glory ...</td>\n",
              "    </tr>\n",
              "    <tr>\n",
              "      <th>2</th>\n",
              "      <td>3</td>\n",
              "      <td>Active sport briefs - These superbreathable no...</td>\n",
              "    </tr>\n",
              "    <tr>\n",
              "      <th>3</th>\n",
              "      <td>4</td>\n",
              "      <td>Alpine guide pants - Skin in, climb ice, switc...</td>\n",
              "    </tr>\n",
              "    <tr>\n",
              "      <th>4</th>\n",
              "      <td>5</td>\n",
              "      <td>Alpine wind jkt - On high ridges, steep ice an...</td>\n",
              "    </tr>\n",
              "  </tbody>\n",
              "</table>\n",
              "</div>"
            ],
            "text/plain": [
              "   id                                        description\n",
              "0   1  Active classic boxers - There's a reason why o...\n",
              "1   2  Active sport boxer briefs - Skinning up Glory ...\n",
              "2   3  Active sport briefs - These superbreathable no...\n",
              "3   4  Alpine guide pants - Skin in, climb ice, switc...\n",
              "4   5  Alpine wind jkt - On high ridges, steep ice an..."
            ]
          },
          "metadata": {
            "tags": []
          },
          "execution_count": 3
        }
      ]
    },
    {
      "cell_type": "code",
      "metadata": {
        "colab": {
          "base_uri": "https://localhost:8080/"
        },
        "id": "BKgzQQ1OmbbL",
        "outputId": "a03fc156-5b49-4a9a-fa16-cb4497da817b"
      },
      "source": [
        "df.shape"
      ],
      "execution_count": 5,
      "outputs": [
        {
          "output_type": "execute_result",
          "data": {
            "text/plain": [
              "(500, 2)"
            ]
          },
          "metadata": {
            "tags": []
          },
          "execution_count": 5
        }
      ]
    },
    {
      "cell_type": "code",
      "metadata": {
        "colab": {
          "base_uri": "https://localhost:8080/"
        },
        "id": "GZHjBvIG2he9",
        "outputId": "96f35492-16ba-4549-f18d-82289a4f1e95"
      },
      "source": [
        "#setting tfidf vectorizer\n",
        "tf = TfidfVectorizer(ngram_range =(1,3), min_df=0, stop_words = 'english')\n",
        "tf"
      ],
      "execution_count": 6,
      "outputs": [
        {
          "output_type": "execute_result",
          "data": {
            "text/plain": [
              "TfidfVectorizer(analyzer='word', binary=False, decode_error='strict',\n",
              "                dtype=<class 'numpy.float64'>, encoding='utf-8',\n",
              "                input='content', lowercase=True, max_df=1.0, max_features=None,\n",
              "                min_df=0, ngram_range=(1, 3), norm='l2', preprocessor=None,\n",
              "                smooth_idf=True, stop_words='english', strip_accents=None,\n",
              "                sublinear_tf=False, token_pattern='(?u)\\\\b\\\\w\\\\w+\\\\b',\n",
              "                tokenizer=None, use_idf=True, vocabulary=None)"
            ]
          },
          "metadata": {
            "tags": []
          },
          "execution_count": 6
        }
      ]
    },
    {
      "cell_type": "code",
      "metadata": {
        "colab": {
          "base_uri": "https://localhost:8080/"
        },
        "id": "hfb7Z-3V7vO_",
        "outputId": "1ba629f1-aff7-4cb3-8f59-1b148820bde4"
      },
      "source": [
        "#tfidf matrix\n",
        "tf_matrix = tf.fit_transform(df['description'])\n",
        "print(tf_matrix)"
      ],
      "execution_count": 7,
      "outputs": [
        {
          "output_type": "stream",
          "text": [
            "  (0, 5082)\t0.04626380862294002\n",
            "  (0, 31139)\t0.011758800751191277\n",
            "  (0, 1641)\t0.07080059817388241\n",
            "  (0, 50353)\t0.07080059817388241\n",
            "  (0, 5367)\t0.07080059817388241\n",
            "  (0, 5090)\t0.011758800751191277\n",
            "  (0, 18103)\t0.046736221920387164\n",
            "  (0, 9505)\t0.046736221920387164\n",
            "  (0, 30377)\t0.04305091014250708\n",
            "  (0, 29484)\t0.04172689420704989\n",
            "  (0, 18367)\t0.04172689420704989\n",
            "  (0, 33778)\t0.05475768067155225\n",
            "  (0, 35887)\t0.05383138493531891\n",
            "  (0, 15042)\t0.02329084447698849\n",
            "  (0, 5122)\t0.015624497845885543\n",
            "  (0, 5079)\t0.011572518761001242\n",
            "  (0, 47276)\t0.011572518761001242\n",
            "  (0, 25747)\t0.011572518761001242\n",
            "  (0, 40648)\t0.0580868868522042\n",
            "  (0, 21702)\t0.0580868868522042\n",
            "  (0, 24617)\t0.04626380862294002\n",
            "  (0, 24884)\t0.03183250400752269\n",
            "  (0, 5038)\t0.07549285074439553\n",
            "  (0, 46586)\t0.07549285074439553\n",
            "  (0, 25287)\t0.06488905905925031\n",
            "  :\t:\n",
            "  (499, 35955)\t0.034262522330899686\n",
            "  (499, 45957)\t0.034262522330899686\n",
            "  (499, 8851)\t0.034262522330899686\n",
            "  (499, 35770)\t0.034262522330899686\n",
            "  (499, 21684)\t0.03748096857707702\n",
            "  (499, 31039)\t0.023363733614843278\n",
            "  (499, 49905)\t0.01289277189245428\n",
            "  (499, 18087)\t0.042186629846227335\n",
            "  (499, 14759)\t0.012688525621256155\n",
            "  (499, 24030)\t0.17763935869758615\n",
            "  (499, 47274)\t0.02537705124251231\n",
            "  (499, 11750)\t0.012688525621256155\n",
            "  (499, 5073)\t0.10150820497004924\n",
            "  (499, 34426)\t0.034262522330899686\n",
            "  (499, 35950)\t0.034262522330899686\n",
            "  (499, 45954)\t0.034262522330899686\n",
            "  (499, 8850)\t0.034262522330899686\n",
            "  (499, 35766)\t0.034262522330899686\n",
            "  (499, 40571)\t0.033391614086391005\n",
            "  (499, 21612)\t0.06552042779479689\n",
            "  (499, 42)\t0.03847573415727215\n",
            "  (499, 31038)\t0.02578554378490856\n",
            "  (499, 17250)\t0.034056086612361036\n",
            "  (499, 16361)\t0.0269359114809135\n",
            "  (499, 26140)\t0.026477240133378346\n"
          ],
          "name": "stdout"
        }
      ]
    },
    {
      "cell_type": "code",
      "metadata": {
        "id": "jP5yfS2u8DYv"
      },
      "source": [
        "#implementing cosine similarity\n",
        "cosine_similarity = linear_kernel(tf_matrix, tf_matrix)\n",
        "\n",
        "res = {}\n",
        "\n",
        "for a,b in df.iterrows():\n",
        "  similar_index = cosine_similarity[a].argsort()[:-100:-1]\n",
        "  similar_item = [(cosine_similarity[a][i],df['id'][i]) for i in similar_index]\n",
        "  res[b['id']] = similar_item[1:]\n",
        "\n",
        "def items(idd):\n",
        "  return df.loc[df['id']==idd]['description'].tolist()[0].split('-')[0]\n",
        "\n",
        "#Recommending based on top maching values\n",
        "def recommend(idd, num):\n",
        "  ress = res[idd][:num]\n",
        "  for i in ress:\n",
        "    print(items(i[1]),str(i[0]))"
      ],
      "execution_count": 8,
      "outputs": []
    },
    {
      "cell_type": "code",
      "metadata": {
        "colab": {
          "base_uri": "https://localhost:8080/"
        },
        "id": "Dyk2rINAW8oL",
        "outputId": "e0f6123c-d805-47f6-ed70-287ea3ee44da"
      },
      "source": [
        "#recommend 3 movies similar to 2nd movie\n",
        "recommend(2,3)"
      ],
      "execution_count": 9,
      "outputs": [
        {
          "output_type": "stream",
          "text": [
            "Active sport briefs  0.41816639921615745\n",
            "Cap 1 boxer briefs  0.11546382098627585\n",
            "Active boxer briefs  0.11303392245400211\n"
          ],
          "name": "stdout"
        }
      ]
    },
    {
      "cell_type": "code",
      "metadata": {
        "colab": {
          "base_uri": "https://localhost:8080/"
        },
        "id": "MgLzmFWkXqFU",
        "outputId": "2139c12f-36c4-4d3d-8b8b-ab9a74e66378"
      },
      "source": [
        "#recommend 5 movies similar to 4th movie\n",
        "recommend(4,5)"
      ],
      "execution_count": 10,
      "outputs": [
        {
          "output_type": "stream",
          "text": [
            "Alpine guide pants  0.8253856759948797\n",
            "Guide jkt  0.20769755384994887\n",
            "Guide jkt  0.18827991801713145\n",
            "Rock guide pants  0.16574026828699218\n",
            "Lw guide pants  0.16373827536275246\n"
          ],
          "name": "stdout"
        }
      ]
    },
    {
      "cell_type": "code",
      "metadata": {
        "colab": {
          "base_uri": "https://localhost:8080/"
        },
        "id": "Jn1IhAEvc6dr",
        "outputId": "68aa1936-e120-4456-9d02-6a9e2e3675b0"
      },
      "source": [
        "#recommend 3 movies similar to 7th movie\n",
        "recommend(7,3)"
      ],
      "execution_count": 11,
      "outputs": [
        {
          "output_type": "stream",
          "text": [
            "Single shot  0.2662682323077328\n",
            "Pocket pack  0.25498893494640756\n",
            "Hip pack  0.2545734766061296\n"
          ],
          "name": "stdout"
        }
      ]
    }
  ]
}