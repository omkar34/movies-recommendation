{
  "nbformat": 4,
  "nbformat_minor": 0,
  "metadata": {
    "colab": {
      "name": "Content_based_recommend.ipynb",
      "provenance": []
    },
    "kernelspec": {
      "name": "python3",
      "display_name": "Python 3"
    },
    "language_info": {
      "name": "python"
    }
  },
  "cells": [
    {
      "cell_type": "code",
      "metadata": {
        "id": "laEpq1E814NC"
      },
      "source": [
        "#importing libraries\n",
        "import pandas as pd\n",
        "import numpy as np\n",
        "from sklearn.feature_extraction.text import TfidfVectorizer\n",
        "from sklearn.metrics.pairwise import sigmoid_kernel"
      ],
      "execution_count": 24,
      "outputs": []
    },
    {
      "cell_type": "code",
      "metadata": {
        "colab": {
          "base_uri": "https://localhost:8080/",
          "height": 204
        },
        "id": "mXnEwT-314Ae",
        "outputId": "21c1ee00-72c2-41b1-dd5f-ee40415c4661"
      },
      "source": [
        "#importing dataset\n",
        "df = pd.read_csv('products_data.csv')\n",
        "\n",
        "#display head i.e first five entries\n",
        "df.head()"
      ],
      "execution_count": 34,
      "outputs": [
        {
          "output_type": "execute_result",
          "data": {
            "text/html": [
              "<div>\n",
              "<style scoped>\n",
              "    .dataframe tbody tr th:only-of-type {\n",
              "        vertical-align: middle;\n",
              "    }\n",
              "\n",
              "    .dataframe tbody tr th {\n",
              "        vertical-align: top;\n",
              "    }\n",
              "\n",
              "    .dataframe thead th {\n",
              "        text-align: right;\n",
              "    }\n",
              "</style>\n",
              "<table border=\"1\" class=\"dataframe\">\n",
              "  <thead>\n",
              "    <tr style=\"text-align: right;\">\n",
              "      <th></th>\n",
              "      <th>id</th>\n",
              "      <th>description</th>\n",
              "    </tr>\n",
              "  </thead>\n",
              "  <tbody>\n",
              "    <tr>\n",
              "      <th>0</th>\n",
              "      <td>1</td>\n",
              "      <td>Active classic boxers - There's a reason why o...</td>\n",
              "    </tr>\n",
              "    <tr>\n",
              "      <th>1</th>\n",
              "      <td>2</td>\n",
              "      <td>Active sport boxer briefs - Skinning up Glory ...</td>\n",
              "    </tr>\n",
              "    <tr>\n",
              "      <th>2</th>\n",
              "      <td>3</td>\n",
              "      <td>Active sport briefs - These superbreathable no...</td>\n",
              "    </tr>\n",
              "    <tr>\n",
              "      <th>3</th>\n",
              "      <td>4</td>\n",
              "      <td>Alpine guide pants - Skin in, climb ice, switc...</td>\n",
              "    </tr>\n",
              "    <tr>\n",
              "      <th>4</th>\n",
              "      <td>5</td>\n",
              "      <td>Alpine wind jkt - On high ridges, steep ice an...</td>\n",
              "    </tr>\n",
              "  </tbody>\n",
              "</table>\n",
              "</div>"
            ],
            "text/plain": [
              "   id                                        description\n",
              "0   1  Active classic boxers - There's a reason why o...\n",
              "1   2  Active sport boxer briefs - Skinning up Glory ...\n",
              "2   3  Active sport briefs - These superbreathable no...\n",
              "3   4  Alpine guide pants - Skin in, climb ice, switc...\n",
              "4   5  Alpine wind jkt - On high ridges, steep ice an..."
            ]
          },
          "metadata": {
            "tags": []
          },
          "execution_count": 34
        }
      ]
    },
    {
      "cell_type": "code",
      "metadata": {
        "colab": {
          "base_uri": "https://localhost:8080/",
          "height": 171
        },
        "id": "IdznE7gQG0kr",
        "outputId": "110787ac-1e65-4ec1-d4db-46e7bdb38730"
      },
      "source": [
        "df['description'][1]"
      ],
      "execution_count": 35,
      "outputs": [
        {
          "output_type": "execute_result",
          "data": {
            "application/vnd.google.colaboratory.intrinsic+json": {
              "type": "string"
            },
            "text/plain": [
              "'Active sport boxer briefs - Skinning up Glory requires enough movement without your boxers deciding to poach their own route. The form-fitting Active Sport Boxer Briefs are made from breathable 93% polyester (71% recycled) fabric that\\'s fast-wicking, dries quickly and has 7% spandex for stretch; the seamless waistband and soft leg edges won\\'t roll or bind. The gusseted, flat-sewn 6\" inseam (size M) is offset to prevent inner-thigh chafe. Fly-free with a smooth front panel. Recyclable through the Common Threads Recycling Program.<br><br><b>Details:</b><ul> <li>\"Stretch mesh provides support, open-weave mesh for airflow, wicks efficiently, dries fast\"</li> <li>Seamless construction</li> <li>\"Flat-sewn, gusseted inseam is set forward to prevent inner-thigh chafe\"</li> <li>Fly-free support</li> <li>\"Inseam (size M) is 6\"\"\"</li></ul><br><br><b>Fabric: </b>\"4.6-oz 93% polyester (71% recycled)/7% spandex, with moisture-wicking performance. Recyclable through the Common Threads Recycling Program\"<br><br><b>Weight: </b>(60 g 2.1 oz)<br><br>Made in Israel.'"
            ]
          },
          "metadata": {
            "tags": []
          },
          "execution_count": 35
        }
      ]
    },
    {
      "cell_type": "code",
      "metadata": {
        "colab": {
          "base_uri": "https://localhost:8080/"
        },
        "id": "BKgzQQ1OmbbL",
        "outputId": "3aae455a-db49-407d-a091-239b2824f7c6"
      },
      "source": [
        "df.shape"
      ],
      "execution_count": 36,
      "outputs": [
        {
          "output_type": "execute_result",
          "data": {
            "text/plain": [
              "(500, 2)"
            ]
          },
          "metadata": {
            "tags": []
          },
          "execution_count": 36
        }
      ]
    },
    {
      "cell_type": "code",
      "metadata": {
        "colab": {
          "base_uri": "https://localhost:8080/"
        },
        "id": "GZHjBvIG2he9",
        "outputId": "7cc0ec7f-e0b7-4eeb-bebf-b4c248462816"
      },
      "source": [
        "#setting tfidf vectorizer\n",
        "tf = TfidfVectorizer(ngram_range =(1,3), min_df=3, stop_words = 'english',analyzer='word')\n",
        "tf"
      ],
      "execution_count": 37,
      "outputs": [
        {
          "output_type": "execute_result",
          "data": {
            "text/plain": [
              "TfidfVectorizer(analyzer='word', binary=False, decode_error='strict',\n",
              "                dtype=<class 'numpy.float64'>, encoding='utf-8',\n",
              "                input='content', lowercase=True, max_df=1.0, max_features=None,\n",
              "                min_df=3, ngram_range=(1, 3), norm='l2', preprocessor=None,\n",
              "                smooth_idf=True, stop_words='english', strip_accents=None,\n",
              "                sublinear_tf=False, token_pattern='(?u)\\\\b\\\\w\\\\w+\\\\b',\n",
              "                tokenizer=None, use_idf=True, vocabulary=None)"
            ]
          },
          "metadata": {
            "tags": []
          },
          "execution_count": 37
        }
      ]
    },
    {
      "cell_type": "code",
      "metadata": {
        "colab": {
          "base_uri": "https://localhost:8080/"
        },
        "id": "hfb7Z-3V7vO_",
        "outputId": "f6bf1981-d18d-48b6-fff8-93a132c3efb9"
      },
      "source": [
        "#tfidf matrix\n",
        "tf_matrix = tf.fit_transform(df['description'])\n",
        "tf_matrix.shape"
      ],
      "execution_count": 38,
      "outputs": [
        {
          "output_type": "execute_result",
          "data": {
            "text/plain": [
              "(500, 8988)"
            ]
          },
          "metadata": {
            "tags": []
          },
          "execution_count": 38
        }
      ]
    },
    {
      "cell_type": "code",
      "metadata": {
        "id": "jP5yfS2u8DYv"
      },
      "source": [
        "#implementing cosine similarity\n",
        "cosine_similarity = sigmoid_kernel(tf_matrix, tf_matrix)\n",
        "\n",
        "res = {}\n",
        "\n",
        "for a,b in df.iterrows():\n",
        "  similar_index = cosine_similarity[a].argsort()[:-100:-1]\n",
        "  similar_item = [(cosine_similarity[a][i],df['id'][i]) for i in similar_index]\n",
        "  res[b['id']] = similar_item[1:]\n",
        "\n",
        "def items(idd):\n",
        "  return df.loc[df['id']==idd]['description'].tolist()[0].split('-')[0]\n",
        "\n",
        "#Recommending based on top 10 maching values\n",
        "def recommend(idd):\n",
        "  ress = res[idd][:10]\n",
        "  for i in ress:\n",
        "    print(items(i[1]),str(i[0]))"
      ],
      "execution_count": 39,
      "outputs": []
    },
    {
      "cell_type": "code",
      "metadata": {
        "colab": {
          "base_uri": "https://localhost:8080/"
        },
        "id": "Dyk2rINAW8oL",
        "outputId": "977510bb-2cce-41dc-ec58-1927cdbfd4a9"
      },
      "source": [
        "#recommend 10 products similar to 2nd product in dataset\n",
        "recommend(2)"
      ],
      "execution_count": 40,
      "outputs": [
        {
          "output_type": "stream",
          "text": [
            "Active sport briefs  0.7616227509608378\n",
            "Active boy shorts  0.7616077947888871\n",
            "Active briefs  0.7616076791295683\n",
            "Active classic boxers  0.7616068888543706\n",
            "Active boxer briefs  0.761606631950747\n",
            "Cap 1 boxer briefs  0.7616065315076125\n",
            "Active mesh bra  0.7616063607436522\n",
            "Active hipster  0.7616053408722252\n",
            "Sport top  0.7616048274533851\n",
            "Active classic cami  0.7616040333412413\n"
          ],
          "name": "stdout"
        }
      ]
    },
    {
      "cell_type": "code",
      "metadata": {
        "colab": {
          "base_uri": "https://localhost:8080/"
        },
        "id": "MgLzmFWkXqFU",
        "outputId": "5eaf0ba6-88d4-4fe1-e20d-b9b88ab7c910"
      },
      "source": [
        "#recommend 10 products similar to 4th product in dataset\n",
        "recommend(4)"
      ],
      "execution_count": 32,
      "outputs": [
        {
          "output_type": "stream",
          "text": [
            "Alpine guide pants  0.7616380291869717\n",
            "Guide jkt  0.7616120340769095\n",
            "Lw guide pants  0.7616105465029502\n",
            "Guide jkt  0.7616101860851494\n",
            "Lw guide pants  0.761610179108226\n",
            "Rock guide pants  0.7616095281944175\n",
            "Simple guide pants  0.7616078552725534\n",
            "Traverse pants  0.7616069532332127\n",
            "Shelled insulator pants  0.761606176645451\n",
            "Rock guide pants  0.7616060724010606\n"
          ],
          "name": "stdout"
        }
      ]
    },
    {
      "cell_type": "code",
      "metadata": {
        "colab": {
          "base_uri": "https://localhost:8080/"
        },
        "id": "Jn1IhAEvc6dr",
        "outputId": "2701313e-c874-432f-fb3c-c3b2e12af948"
      },
      "source": [
        "#recommend 10 products similar to 7th product in dataset\n",
        "recommend(7)"
      ],
      "execution_count": 33,
      "outputs": [
        {
          "output_type": "stream",
          "text": [
            "Single shot  0.7616187523336315\n",
            "Pocket pack  0.7616183141708072\n",
            "Hip pack  0.7616182722797439\n",
            "Lightwire brief  0.7616175483653856\n",
            "Daily grind  0.7616168876620515\n",
            "Lightwire  0.7616157699289594\n",
            "Crosstown  0.7616143629162222\n",
            "Lw travel sling  0.7616140820638974\n",
            "Mlc burrito  0.7616105822962451\n",
            "Minimass  0.7616098675244943\n"
          ],
          "name": "stdout"
        }
      ]
    }
  ]
}